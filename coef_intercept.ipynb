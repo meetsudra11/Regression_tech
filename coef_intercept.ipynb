{
 "cells": [
  {
   "cell_type": "code",
   "execution_count": 2,
   "metadata": {},
   "outputs": [],
   "source": [
    "import pandas as pd \n",
    "df =  pd.read_csv('/Users/meetsudra/Documents/GitHub/Regression_tech/datasets/placement.csv')"
   ]
  },
  {
   "cell_type": "code",
   "execution_count": 19,
   "metadata": {},
   "outputs": [],
   "source": [
    "X = df.iloc[:,0].values\n",
    "y = df.iloc[:,-1].values # numpy array dega "
   ]
  },
  {
   "cell_type": "code",
   "execution_count": 20,
   "metadata": {},
   "outputs": [],
   "source": [
    "from sklearn.model_selection import train_test_split\n",
    "X_train,X_test,y_train,y_test = train_test_split(X,y,test_size=0.2,random_state=42)"
   ]
  },
  {
   "cell_type": "code",
   "execution_count": 21,
   "metadata": {},
   "outputs": [],
   "source": [
    "class Mylr:\n",
    "    def __init__(self):\n",
    "        self.m = None\n",
    "        self.b = None\n",
    "\n",
    "    def fit(self,X_train,y_train):\n",
    "\n",
    "            num = 0\n",
    "            den = 0\n",
    "\n",
    "            for i in range(X_train.shape[0]):\n",
    "                 \n",
    "                 num = num + ((X_train[i]-X_train.mean()) * (y_train[i]-y_train.mean())) # (num +) since we are suming up values at the end for every row \n",
    "                 den = den + ((X_train[i]-X_train.mean()) * (X_train[i]-X_train.mean()))\n",
    "            \n",
    "            self.m = num/den\n",
    "\n",
    "            self.b = y_train.mean() - self.m * X_train.mean()\n",
    "\n",
    "            print(self.b)\n",
    "            print(self.m)\n",
    "\n",
    "    def predict(self,X_test):\n",
    "         print(X_test)\n",
    "         return self.m * X_test + self.m\n"
   ]
  },
  {
   "cell_type": "code",
   "execution_count": 22,
   "metadata": {},
   "outputs": [],
   "source": [
    "lr = Mylr()"
   ]
  },
  {
   "cell_type": "code",
   "execution_count": 23,
   "metadata": {},
   "outputs": [
    {
     "name": "stdout",
     "output_type": "stream",
     "text": [
      "-1.0270069374542108\n",
      "0.5742564727019197\n"
     ]
    }
   ],
   "source": [
    "lr.fit(X_train,y_train)"
   ]
  },
  {
   "cell_type": "code",
   "execution_count": 24,
   "metadata": {},
   "outputs": [
    {
     "name": "stdout",
     "output_type": "stream",
     "text": [
      "[6.63 7.25 7.36 5.95 7.93 8.35 7.3  6.22 7.32 7.87 5.11 5.88 8.21 6.59\n",
      " 7.84 7.09 5.84 7.37 5.58 7.56 6.06 6.84 7.57 6.79 7.6  5.61 4.26 6.51\n",
      " 7.33 5.84 8.31 6.94 8.2  6.97 6.3  7.62 6.1  7.14 9.06 6.94]\n"
     ]
    },
    {
     "data": {
      "text/plain": [
       "array([4.38157689, 4.7376159 , 4.80078411, 3.99108249, 5.1281103 ,\n",
       "       5.36929802, 4.76632872, 4.14613173, 4.77781385, 5.09365491,\n",
       "       3.50870705, 3.95088453, 5.28890211, 4.35860663, 5.07642722,\n",
       "       4.64573486, 3.92791427, 4.80652668, 3.77860759, 4.91563541,\n",
       "       4.0542507 , 4.50217075, 4.92137797, 4.47345792, 4.93860567,\n",
       "       3.79583528, 3.02058905, 4.31266611, 4.78355642, 3.92791427,\n",
       "       5.34632776, 4.55959639, 5.28315955, 4.57682409, 4.19207225,\n",
       "       4.95009079, 4.07722096, 4.67444769, 5.77702012, 4.55959639])"
      ]
     },
     "execution_count": 24,
     "metadata": {},
     "output_type": "execute_result"
    }
   ],
   "source": [
    "lr.predict(X_test)"
   ]
  },
  {
   "cell_type": "code",
   "execution_count": null,
   "metadata": {},
   "outputs": [],
   "source": []
  }
 ],
 "metadata": {
  "kernelspec": {
   "display_name": "Python 3",
   "language": "python",
   "name": "python3"
  },
  "language_info": {
   "codemirror_mode": {
    "name": "ipython",
    "version": 3
   },
   "file_extension": ".py",
   "mimetype": "text/x-python",
   "name": "python",
   "nbconvert_exporter": "python",
   "pygments_lexer": "ipython3",
   "version": "3.12.3"
  }
 },
 "nbformat": 4,
 "nbformat_minor": 2
}
