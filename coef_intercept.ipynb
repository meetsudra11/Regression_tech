{
 "cells": [
  {
   "cell_type": "code",
   "execution_count": 2,
   "metadata": {},
   "outputs": [],
   "source": [
    "import pandas as pd \n",
    "df =  pd.read_csv('/Users/meetsudra/Documents/GitHub/Regression_tech/datasets/placement.csv')"
   ]
  },
  {
   "cell_type": "code",
   "execution_count": 19,
   "metadata": {},
   "outputs": [],
   "source": [
    "X = df.iloc[:,0].values\n",
    "y = df.iloc[:,-1].values # numpy array dega "
   ]
  },
  {
   "cell_type": "code",
   "execution_count": 20,
   "metadata": {},
   "outputs": [],
   "source": [
    "from sklearn.model_selection import train_test_split\n",
    "X_train,X_test,y_train,y_test = train_test_split(X,y,test_size=0.2,random_state=42)"
   ]
  },
  {
   "cell_type": "code",
   "execution_count": 21,
   "metadata": {},
   "outputs": [],
   "source": [
    "class Mylr:\n",
    "    def __init__(self):\n",
    "        self.m = None\n",
    "        self.b = None\n",
    "\n",
    "    def fit(self,X_train,y_train):\n",
    "\n",
    "            num = 0\n",
    "            den = 0\n",
    "\n",
    "            for i in range(X_train.shape[0]):\n",
    "                 \n",
    "                 num = num + ((X_train[i]-X_train.mean()) * (y_train[i]-y_train.mean())) # (num +) since we are suming up values at the end for every row \n",
    "                 den = den + ((X_train[i]-X_train.mean()) * (X_train[i]-X_train.mean()))\n",
    "            \n",
    "            self.m = num/den\n",
    "\n",
    "            self.b = y_train.mean() - self.m * X_train.mean()\n",
    "\n",
    "            print(self.b)\n",
    "            print(self.m)\n",
    "\n",
    "    def predict(self,X_test):\n",
    "         print(X_test)\n",
    "         return self.m * X_test + self.m\n"
   ]
  },
  {
   "cell_type": "code",
   "execution_count": 22,
   "metadata": {},
   "outputs": [],
   "source": [
    "lr = Mylr()"
   ]
  },
  {
   "cell_type": "code",
   "execution_count": 23,
   "metadata": {},
   "outputs": [
    {
     "name": "stdout",
     "output_type": "stream",
     "text": [
      "-1.0270069374542108\n",
      "0.5742564727019197\n"
     ]
    }
   ],
   "source": [
    "lr.fit(X_train,y_train)"
   ]
  },
  {
   "cell_type": "code",
   "execution_count": null,
   "metadata": {},
   "outputs": [],
   "source": []
  }
 ],
 "metadata": {
  "kernelspec": {
   "display_name": "Python 3",
   "language": "python",
   "name": "python3"
  },
  "language_info": {
   "codemirror_mode": {
    "name": "ipython",
    "version": 3
   },
   "file_extension": ".py",
   "mimetype": "text/x-python",
   "name": "python",
   "nbconvert_exporter": "python",
   "pygments_lexer": "ipython3",
   "version": "3.12.3"
  }
 },
 "nbformat": 4,
 "nbformat_minor": 2
}
