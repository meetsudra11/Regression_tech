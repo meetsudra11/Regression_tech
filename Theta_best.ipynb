{
 "cells": [
  {
   "cell_type": "code",
   "execution_count": 1,
   "id": "bb145a05-c44f-4978-9b70-7d9a665dcbb7",
   "metadata": {},
   "outputs": [],
   "source": [
    "import numpy as np\n",
    "\n",
    "X = 2*np.random.rand(100,1)\n",
    "y = 3*X + 4 + np.random.randn(100,1) #  noise dala he"
   ]
  },
  {
   "cell_type": "code",
   "execution_count": 2,
   "id": "5248a987-81b9-4eb8-ac32-8ceb6cd6b1ab",
   "metadata": {
    "scrolled": true
   },
   "outputs": [
    {
     "name": "stdout",
     "output_type": "stream",
     "text": [
      "[[1.90032087]\n",
      " [1.96308582]\n",
      " [0.79708851]\n",
      " [1.54487575]\n",
      " [0.95559626]\n",
      " [0.91387579]\n",
      " [0.35142827]\n",
      " [1.81394184]\n",
      " [1.31249188]\n",
      " [1.78799715]\n",
      " [0.75590723]\n",
      " [0.63679329]\n",
      " [1.67918317]\n",
      " [1.76544539]\n",
      " [1.22490247]\n",
      " [1.60615623]\n",
      " [0.07083305]\n",
      " [0.36988688]\n",
      " [0.48302257]\n",
      " [0.76096548]\n",
      " [1.50058408]\n",
      " [1.93652492]\n",
      " [0.47033106]\n",
      " [0.68930668]\n",
      " [0.09379387]\n",
      " [1.37135805]\n",
      " [1.48525338]\n",
      " [1.80762229]\n",
      " [0.96481832]\n",
      " [1.36633251]\n",
      " [1.05874775]\n",
      " [0.47844625]\n",
      " [1.14618487]\n",
      " [0.08080077]\n",
      " [0.13673093]\n",
      " [0.09706808]\n",
      " [0.05690152]\n",
      " [0.97428788]\n",
      " [1.50915177]\n",
      " [1.30550898]\n",
      " [0.80682422]\n",
      " [0.299289  ]\n",
      " [1.84638824]\n",
      " [1.74435407]\n",
      " [0.08040633]\n",
      " [0.27594415]\n",
      " [0.84518779]\n",
      " [0.93868582]\n",
      " [0.719378  ]\n",
      " [0.54483148]\n",
      " [1.59359024]\n",
      " [1.0945931 ]\n",
      " [1.71717185]\n",
      " [1.44577776]\n",
      " [1.18095759]\n",
      " [0.1103382 ]\n",
      " [0.48087893]\n",
      " [1.87130457]\n",
      " [0.84711189]\n",
      " [1.7297667 ]\n",
      " [0.61978132]\n",
      " [1.30531394]\n",
      " [0.4867417 ]\n",
      " [0.02509668]\n",
      " [1.66062266]\n",
      " [1.83273886]\n",
      " [1.23741681]\n",
      " [0.68061969]\n",
      " [1.42442401]\n",
      " [1.09166336]\n",
      " [1.52942271]\n",
      " [1.37099843]\n",
      " [1.75999528]\n",
      " [0.33831765]\n",
      " [0.45257176]\n",
      " [1.58444859]\n",
      " [1.16842984]\n",
      " [0.07174095]\n",
      " [0.93802984]\n",
      " [0.76161256]\n",
      " [1.23450221]\n",
      " [0.42651048]\n",
      " [1.75788378]\n",
      " [1.06425041]\n",
      " [1.65901102]\n",
      " [1.5335159 ]\n",
      " [1.11942185]\n",
      " [1.9398224 ]\n",
      " [0.68109388]\n",
      " [1.65931696]\n",
      " [0.66554628]\n",
      " [0.14203756]\n",
      " [0.41256214]\n",
      " [0.48912201]\n",
      " [1.32132173]\n",
      " [0.84686356]\n",
      " [1.36977691]\n",
      " [0.15215418]\n",
      " [1.48016742]\n",
      " [0.14874189]]\n"
     ]
    }
   ],
   "source": [
    "print(X)"
   ]
  },
  {
   "cell_type": "code",
   "execution_count": 3,
   "id": "8dde050a-9f94-4f98-a84e-9ad5ac0af4ad",
   "metadata": {
    "scrolled": true
   },
   "outputs": [
    {
     "name": "stdout",
     "output_type": "stream",
     "text": [
      "[[ 9.09722381]\n",
      " [ 8.50062877]\n",
      " [ 4.32558917]\n",
      " [ 9.40814708]\n",
      " [ 6.38098232]\n",
      " [ 6.76271699]\n",
      " [ 4.65057543]\n",
      " [10.41024382]\n",
      " [ 9.4681971 ]\n",
      " [ 8.2189903 ]\n",
      " [ 5.53797451]\n",
      " [ 7.53354385]\n",
      " [ 9.42364346]\n",
      " [ 8.81752631]\n",
      " [ 8.82018278]\n",
      " [ 8.99884129]\n",
      " [ 4.28613683]\n",
      " [ 4.79426214]\n",
      " [ 4.6592761 ]\n",
      " [ 6.17920998]\n",
      " [ 8.9736297 ]\n",
      " [ 8.04036594]\n",
      " [ 4.91916699]\n",
      " [ 7.01530661]\n",
      " [ 3.30756713]\n",
      " [ 7.08401293]\n",
      " [ 9.04652044]\n",
      " [10.22890664]\n",
      " [ 8.44758284]\n",
      " [10.35889998]\n",
      " [ 8.71244194]\n",
      " [ 4.96665427]\n",
      " [ 7.11596253]\n",
      " [ 3.38600682]\n",
      " [ 5.5526463 ]\n",
      " [ 3.2499455 ]\n",
      " [ 4.62214651]\n",
      " [ 6.36519649]\n",
      " [ 9.63307977]\n",
      " [ 9.05027832]\n",
      " [ 7.19643851]\n",
      " [ 4.28489154]\n",
      " [ 9.26999433]\n",
      " [10.02201627]\n",
      " [ 3.47493263]\n",
      " [ 2.73875144]\n",
      " [ 7.4341391 ]\n",
      " [ 6.73290934]\n",
      " [ 4.17599457]\n",
      " [ 5.21748372]\n",
      " [10.22354502]\n",
      " [ 7.1072745 ]\n",
      " [ 8.41158971]\n",
      " [ 6.75572468]\n",
      " [ 8.23050011]\n",
      " [ 5.19761933]\n",
      " [ 5.58787181]\n",
      " [ 7.85398225]\n",
      " [ 8.37575404]\n",
      " [ 8.07490675]\n",
      " [ 5.51810025]\n",
      " [ 9.22484772]\n",
      " [ 4.90363218]\n",
      " [ 3.15508585]\n",
      " [ 8.67400854]\n",
      " [11.06454077]\n",
      " [ 8.18013151]\n",
      " [ 6.87159254]\n",
      " [ 8.74669403]\n",
      " [ 7.04046134]\n",
      " [10.36364862]\n",
      " [ 9.03072928]\n",
      " [ 7.64937587]\n",
      " [ 4.77811284]\n",
      " [ 6.37497946]\n",
      " [ 9.3985604 ]\n",
      " [ 7.83460285]\n",
      " [ 6.0836336 ]\n",
      " [ 6.14514294]\n",
      " [ 5.12419645]\n",
      " [ 7.93770918]\n",
      " [ 4.77059513]\n",
      " [ 8.78017466]\n",
      " [ 7.85498466]\n",
      " [ 9.5335478 ]\n",
      " [ 8.46912573]\n",
      " [ 6.56137249]\n",
      " [10.81967109]\n",
      " [ 5.5587794 ]\n",
      " [ 7.77304851]\n",
      " [ 5.03261397]\n",
      " [ 4.27812591]\n",
      " [ 3.32689092]\n",
      " [ 5.89790472]\n",
      " [ 5.07331082]\n",
      " [ 6.71553724]\n",
      " [ 9.14471851]\n",
      " [ 4.35823604]\n",
      " [ 8.50171192]\n",
      " [ 4.152157  ]]\n"
     ]
    }
   ],
   "source": [
    "print(y)"
   ]
  },
  {
   "cell_type": "code",
   "execution_count": 4,
   "id": "593de583-1d1d-407d-8191-2333b0b55514",
   "metadata": {},
   "outputs": [],
   "source": [
    "X_b = np.c_[np.ones((100,1)),X]\n",
    "# X_b(100,n+1)\n",
    "# new matrix with the shape (100,2)  X had n number of column n=1 after concatenation new matrix becomes n+1 that is 2"
   ]
  },
  {
   "cell_type": "code",
   "execution_count": 5,
   "id": "4118de56-0fea-4b95-85ff-979c36df6dad",
   "metadata": {
    "scrolled": true
   },
   "outputs": [
    {
     "data": {
      "text/plain": [
       "array([[1.        , 1.90032087],\n",
       "       [1.        , 1.96308582],\n",
       "       [1.        , 0.79708851],\n",
       "       [1.        , 1.54487575],\n",
       "       [1.        , 0.95559626],\n",
       "       [1.        , 0.91387579],\n",
       "       [1.        , 0.35142827],\n",
       "       [1.        , 1.81394184],\n",
       "       [1.        , 1.31249188],\n",
       "       [1.        , 1.78799715],\n",
       "       [1.        , 0.75590723],\n",
       "       [1.        , 0.63679329],\n",
       "       [1.        , 1.67918317],\n",
       "       [1.        , 1.76544539],\n",
       "       [1.        , 1.22490247],\n",
       "       [1.        , 1.60615623],\n",
       "       [1.        , 0.07083305],\n",
       "       [1.        , 0.36988688],\n",
       "       [1.        , 0.48302257],\n",
       "       [1.        , 0.76096548],\n",
       "       [1.        , 1.50058408],\n",
       "       [1.        , 1.93652492],\n",
       "       [1.        , 0.47033106],\n",
       "       [1.        , 0.68930668],\n",
       "       [1.        , 0.09379387],\n",
       "       [1.        , 1.37135805],\n",
       "       [1.        , 1.48525338],\n",
       "       [1.        , 1.80762229],\n",
       "       [1.        , 0.96481832],\n",
       "       [1.        , 1.36633251],\n",
       "       [1.        , 1.05874775],\n",
       "       [1.        , 0.47844625],\n",
       "       [1.        , 1.14618487],\n",
       "       [1.        , 0.08080077],\n",
       "       [1.        , 0.13673093],\n",
       "       [1.        , 0.09706808],\n",
       "       [1.        , 0.05690152],\n",
       "       [1.        , 0.97428788],\n",
       "       [1.        , 1.50915177],\n",
       "       [1.        , 1.30550898],\n",
       "       [1.        , 0.80682422],\n",
       "       [1.        , 0.299289  ],\n",
       "       [1.        , 1.84638824],\n",
       "       [1.        , 1.74435407],\n",
       "       [1.        , 0.08040633],\n",
       "       [1.        , 0.27594415],\n",
       "       [1.        , 0.84518779],\n",
       "       [1.        , 0.93868582],\n",
       "       [1.        , 0.719378  ],\n",
       "       [1.        , 0.54483148],\n",
       "       [1.        , 1.59359024],\n",
       "       [1.        , 1.0945931 ],\n",
       "       [1.        , 1.71717185],\n",
       "       [1.        , 1.44577776],\n",
       "       [1.        , 1.18095759],\n",
       "       [1.        , 0.1103382 ],\n",
       "       [1.        , 0.48087893],\n",
       "       [1.        , 1.87130457],\n",
       "       [1.        , 0.84711189],\n",
       "       [1.        , 1.7297667 ],\n",
       "       [1.        , 0.61978132],\n",
       "       [1.        , 1.30531394],\n",
       "       [1.        , 0.4867417 ],\n",
       "       [1.        , 0.02509668],\n",
       "       [1.        , 1.66062266],\n",
       "       [1.        , 1.83273886],\n",
       "       [1.        , 1.23741681],\n",
       "       [1.        , 0.68061969],\n",
       "       [1.        , 1.42442401],\n",
       "       [1.        , 1.09166336],\n",
       "       [1.        , 1.52942271],\n",
       "       [1.        , 1.37099843],\n",
       "       [1.        , 1.75999528],\n",
       "       [1.        , 0.33831765],\n",
       "       [1.        , 0.45257176],\n",
       "       [1.        , 1.58444859],\n",
       "       [1.        , 1.16842984],\n",
       "       [1.        , 0.07174095],\n",
       "       [1.        , 0.93802984],\n",
       "       [1.        , 0.76161256],\n",
       "       [1.        , 1.23450221],\n",
       "       [1.        , 0.42651048],\n",
       "       [1.        , 1.75788378],\n",
       "       [1.        , 1.06425041],\n",
       "       [1.        , 1.65901102],\n",
       "       [1.        , 1.5335159 ],\n",
       "       [1.        , 1.11942185],\n",
       "       [1.        , 1.9398224 ],\n",
       "       [1.        , 0.68109388],\n",
       "       [1.        , 1.65931696],\n",
       "       [1.        , 0.66554628],\n",
       "       [1.        , 0.14203756],\n",
       "       [1.        , 0.41256214],\n",
       "       [1.        , 0.48912201],\n",
       "       [1.        , 1.32132173],\n",
       "       [1.        , 0.84686356],\n",
       "       [1.        , 1.36977691],\n",
       "       [1.        , 0.15215418],\n",
       "       [1.        , 1.48016742],\n",
       "       [1.        , 0.14874189]])"
      ]
     },
     "execution_count": 5,
     "metadata": {},
     "output_type": "execute_result"
    }
   ],
   "source": [
    "X_b"
   ]
  },
  {
   "cell_type": "code",
   "execution_count": 6,
   "id": "7571ac9c-dffe-4d13-92e7-4de7c4db88d6",
   "metadata": {},
   "outputs": [],
   "source": [
    "theta_best = np.linalg.inv(X_b.T.dot(X_b)).dot(X_b.T).dot(y)"
   ]
  },
  {
   "cell_type": "code",
   "execution_count": 7,
   "id": "4b04b2c3-ca51-41ff-acdf-9d7b3270732f",
   "metadata": {},
   "outputs": [
    {
     "name": "stdout",
     "output_type": "stream",
     "text": [
      "[[3.82241592]\n",
      " [3.15374525]]\n"
     ]
    }
   ],
   "source": [
    "print(theta_best)"
   ]
  },
  {
   "cell_type": "code",
   "execution_count": 8,
   "id": "8f5a6e32-db7c-4ed1-9af9-19a6d45c87d2",
   "metadata": {},
   "outputs": [
    {
     "name": "stdout",
     "output_type": "stream",
     "text": [
      "[[0]\n",
      " [1]]\n"
     ]
    }
   ],
   "source": [
    "new_X = np.array([[0],[1]])\n",
    "print(new_X)"
   ]
  },
  {
   "cell_type": "code",
   "execution_count": 9,
   "id": "11dbba5f-caec-4de5-87cd-5e9a6f44fb8f",
   "metadata": {},
   "outputs": [
    {
     "name": "stdout",
     "output_type": "stream",
     "text": [
      "[[1.]\n",
      " [1.]]\n"
     ]
    }
   ],
   "source": [
    "new_X_b = np.c_[np.ones((2,1)),new_X]\n",
    "print(np.ones((2,1)))"
   ]
  },
  {
   "cell_type": "code",
   "execution_count": 10,
   "id": "3618bfc1-7974-4b40-86da-cca0531ebacd",
   "metadata": {},
   "outputs": [
    {
     "name": "stdout",
     "output_type": "stream",
     "text": [
      "[[1. 0.]\n",
      " [1. 1.]]\n"
     ]
    }
   ],
   "source": [
    "print(new_X_b)"
   ]
  },
  {
   "cell_type": "code",
   "execution_count": 11,
   "id": "836ff94e-b2d2-4598-8901-13807420e2d9",
   "metadata": {},
   "outputs": [],
   "source": [
    "# y = mx + c \n",
    "# theta_best is the parameter that influences the value of y\n",
    "y_predict = new_X_b.dot(theta_best)"
   ]
  },
  {
   "cell_type": "code",
   "execution_count": 12,
   "id": "0648ee09-a3f5-4b0f-921e-84dab9090d5f",
   "metadata": {},
   "outputs": [
    {
     "data": {
      "text/plain": [
       "array([[3.82241592],\n",
       "       [6.97616117]])"
      ]
     },
     "execution_count": 12,
     "metadata": {},
     "output_type": "execute_result"
    }
   ],
   "source": [
    "y_predict"
   ]
  },
  {
   "cell_type": "code",
   "execution_count": 13,
   "id": "84d2c11b-90dc-45b6-bb75-cbc036dd1056",
   "metadata": {},
   "outputs": [
    {
     "data": {
      "image/png": "[encoded data removed]",
      "text/plain": [
       "<Figure size 640x480 with 1 Axes>"
      ]
     },
     "metadata": {},
     "output_type": "display_data"
    }
   ],
   "source": [
    "import matplotlib.pyplot as plt\n",
    "plt.plot(new_X,y_predict,\"r-\")\n",
    "plt.plot(X,y,\"b.\")\n",
    "plt.axis([0,1,0,15])\n",
    "plt.show()"
   ]
  },
  {
   "cell_type": "code",
   "execution_count": null,
   "id": "8071ca5c-a7f3-4f54-b7c8-bab3657a2738",
   "metadata": {},
   "outputs": [],
   "source": []
  },
  {
   "cell_type": "code",
   "execution_count": null,
   "id": "e04171ff-f414-4330-b007-cfe2674fa9bc",
   "metadata": {},
   "outputs": [],
   "source": []
  }
 ],
 "metadata": {
  "kernelspec": {
   "display_name": "Python 3 (ipykernel)",
   "language": "python",
   "name": "python3"
  },
  "language_info": {
   "codemirror_mode": {
    "name": "ipython",
    "version": 3
   },
   "file_extension": ".py",
   "mimetype": "text/x-python",
   "name": "python",
   "nbconvert_exporter": "python",
   "pygments_lexer": "ipython3",
   "version": "3.12.3"
  }
 },
 "nbformat": 4,
 "nbformat_minor": 5
}
